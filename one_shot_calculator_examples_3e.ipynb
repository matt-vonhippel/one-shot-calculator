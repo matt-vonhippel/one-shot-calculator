{
 "cells": [
  {
   "cell_type": "markdown",
   "id": "793edac7-c255-4544-ada3-4983bbdb4932",
   "metadata": {},
   "source": [
    "# How to use one-shot-calculator"
   ]
  },
  {
   "cell_type": "markdown",
   "id": "a5c39b08-6afd-4442-9034-c7a75703ea39",
   "metadata": {},
   "source": [
    "This notebook shows a few examples of how you can use the one_shot_calculator package. It assumes some familiarity with Python and the pandas module. There is a quick-start guide to getting started with these in the README file."
   ]
  },
  {
   "cell_type": "markdown",
   "id": "859780bc-32d6-4bd9-8b03-3efd3cd253fd",
   "metadata": {},
   "source": [
    "## Setup"
   ]
  },
  {
   "cell_type": "markdown",
   "id": "3e26a554-7632-4d3f-8a13-2d100fd34a2a",
   "metadata": {},
   "source": [
    "First, import pandas and two modules from the one_shot_calculator package: process_csv and one_shot_calculator_3e (abbreviated here as osc)"
   ]
  },
  {
   "cell_type": "code",
   "execution_count": 1,
   "id": "14d3a7c0-20b2-45b1-9d05-93fe122f3ae0",
   "metadata": {},
   "outputs": [],
   "source": [
    "import pandas as pd\n",
    "from one_shot_calculator import process_csv\n",
    "from one_shot_calculator import one_shot_calculator_3e as osc"
   ]
  },
  {
   "cell_type": "markdown",
   "id": "76e0d1a7-ee19-4a97-8b23-a05ccfcaccb5",
   "metadata": {},
   "source": [
    "Next, process the CSV file containing the monsters, turning it into a pandas dataframe"
   ]
  },
  {
   "cell_type": "code",
   "execution_count": 2,
   "id": "f6a49eb7-c255-4f2c-9b16-6cd5ac260946",
   "metadata": {},
   "outputs": [],
   "source": [
    "third_ed_monster_table=process_csv.process_csv_3e(\"Monster Compendium (Graphless).csv\")"
   ]
  },
  {
   "cell_type": "markdown",
   "id": "b012ea62-5c56-49c6-a5c1-c44cf92c0dc1",
   "metadata": {},
   "source": [
    "The columns of the dataframe tell you what data about the monsters is available:"
   ]
  },
  {
   "cell_type": "code",
   "execution_count": 3,
   "id": "d63ef919-5ccc-4606-a5f6-3e1c71477d52",
   "metadata": {},
   "outputs": [
    {
     "data": {
      "text/plain": [
       "Index(['Creature', 'Size', 'Type', 'Subtypes', 'HD', 'hp', 'Spd',\n",
       "       'SwimFlyBurrowClimb', 'AC', 'TouchAC', 'FlatFootedAC', 'Grpl', 'Attack',\n",
       "       'Full Attack', 'Special Attacks', 'SLAs', 'Special Qualities', 'Fort',\n",
       "       'Ref', 'Will', 'Str', 'Dex', 'Con', 'Int', 'Wis', 'Cha', 'Environment',\n",
       "       'frqncy', 'Aln', 'CR', 'Book'],\n",
       "      dtype='object')"
      ]
     },
     "execution_count": 3,
     "metadata": {},
     "output_type": "execute_result"
    }
   ],
   "source": [
    "third_ed_monster_table.columns"
   ]
  },
  {
   "cell_type": "markdown",
   "id": "1feba9bf-0662-44c2-8bd9-1d6078f45512",
   "metadata": {},
   "source": [
    "## A simple enough example: sometimes, he just raged"
   ]
  },
  {
   "cell_type": "markdown",
   "id": "1555b4a3-200d-495f-a0da-57f27042f6cd",
   "metadata": {},
   "source": [
    "Let's walk through a simple example: a first-level half-orc barbarian with a greataxe. We'll assume they're raging, with a total Strength of 24, so they have a +8 attack bonus and deal 1d12+10 damage on a hit."
   ]
  },
  {
   "cell_type": "markdown",
   "id": "e1cc0901-8a02-44c4-8eca-3e7ee692d935",
   "metadata": {},
   "source": [
    "First, we need to define a one-shot function. The one-shot function will take a pandas dataframe as input, and return the probability of one-shotting the monsters in that dataframe. I'll give the function for our half-orc friend first, then explain how it works:"
   ]
  },
  {
   "cell_type": "code",
   "execution_count": 3,
   "id": "3695c11b-f635-4ce4-b561-18531f96bd6f",
   "metadata": {},
   "outputs": [],
   "source": [
    "def barbarian_one_shot(dataframe):\n",
    "    return osc.prob_at_least(osc.attack_dist(8,dataframe[\"AC\"],osc.add_const_to_dist(osc.basic_die_dist(12),10),crit_mult=3),dataframe[\"hp\"])"
   ]
  },
  {
   "cell_type": "markdown",
   "id": "19d189ac-fd41-4e29-91d0-4f38a95e8d42",
   "metadata": {},
   "source": [
    "The one_shot_calculator package represents probability distributions as Python dictionaries, with keys for potential outcomes and values for the probabilities. The most basic distribution you will start with is basic_die_dist. Its argument is the number of sides, so basic_die_dist(12) gives a d12. The function add_const_to_dist returns a distribution with a constant added, ideal for your Strength bonus to damage. The function attack_dist is more complicated: its arguments are the attack bonus, the AC (here taking that AC from the dataframe, which is how we will access the AC of monsters), and a damage distribution, in this case the result of add_const_to_dist. It then has a number of optional arguments: crit_range is a two-element list that gives the crit range, for example ``[18,20]`` for a rapier. crit_mult gives the crit multiplier, for example 3 for our greataxe. Other optional arguments let you take account of a bonus to confirm critical hits or bonus damage on crits that isn't a multiplier. The function attack_dist takes account of all the D&D 3.5 rules about attacks, including automatically hitting on a 20 and automatically missing on a 1, and gives the probability distribution of damage including the possibility of dealing no damage at all. Finally, prob_at_least gives the probability that a distribution will give at least a certain value, here the hp row of the dataframe. Thus, this function gives our half-orc's chance to one-shot their enemies."
   ]
  },
  {
   "cell_type": "markdown",
   "id": "22107b38-c212-4f67-b112-d6f101eacb27",
   "metadata": {},
   "source": [
    "Now we're ready to plug this function into one_shot_histogram. The function one_shot_histogram takes the dataframe, a minimum CR, a maximum CR, and a one-shot function, and gives a histogram of the chance of one-shotting monsters between the minimum and maximum CR."
   ]
  },
  {
   "cell_type": "code",
   "execution_count": 4,
   "id": "d2a60bb2-250f-4199-aa51-36119edfb8a2",
   "metadata": {
    "scrolled": true
   },
   "outputs": [
    {
     "data": {
      "text/plain": [
       "<Axes: >"
      ]
     },
     "execution_count": 4,
     "metadata": {},
     "output_type": "execute_result"
    },
    {
     "data": {
      "image/png": "[encoded data removed]",
      "text/plain": [
       "<Figure size 640x480 with 1 Axes>"
      ]
     },
     "metadata": {},
     "output_type": "display_data"
    }
   ],
   "source": [
    "osc.one_shot_histogram(third_ed_monster_table,0,1,barbarian_one_shot)"
   ]
  },
  {
   "cell_type": "markdown",
   "id": "e1ec893e-96ff-4811-b531-84e03e562a10",
   "metadata": {},
   "source": [
    "Respectable! Our half-orc has between 60% and 80% chance to one-shot many level-appropriate monsters."
   ]
  },
  {
   "cell_type": "markdown",
   "id": "417e0b65-1c46-493e-b797-51a508da79a5",
   "metadata": {},
   "source": [
    "## A nonviolent solution"
   ]
  },
  {
   "cell_type": "markdown",
   "id": "e60f9b81-a23d-458d-a417-e08cb0228b53",
   "metadata": {},
   "source": [
    "For this example, we'll use a little more optimization. A first-level wizard has a variety of spells that can take enemies out of a fight with one failed Will save, like Sleep and Color Spray. To optimize, this wizard will have the feats Sacred Vow and Vow of Nonviolence, giving them a +4 to save DCs for their spells. Like the barbarian, we'll assume they start with a base Int of 18. A spell like Sleep will then have a DC of 19. We'll also ignore that some monsters are immune to mind-affecting spells. Our one-shot function is:"
   ]
  },
  {
   "cell_type": "code",
   "execution_count": 5,
   "id": "7a7084a8-8590-4fe9-b4b9-c6ea0a96dde0",
   "metadata": {},
   "outputs": [],
   "source": [
    "def nonviolent_one_shot(dataframe):\n",
    "    return 1-osc.save_chance(dataframe[\"Will\"],19)"
   ]
  },
  {
   "cell_type": "markdown",
   "id": "bb4c18b8-b335-42ce-bbfe-af9e9639cd99",
   "metadata": {},
   "source": [
    "This uses the function save_chance, which takes into account that saves automatically fail on 1 and automatically succeed on 20."
   ]
  },
  {
   "cell_type": "code",
   "execution_count": 6,
   "id": "e24b6c52-74d7-4e63-a093-bf09d00e9cef",
   "metadata": {},
   "outputs": [
    {
     "data": {
      "text/plain": [
       "<Axes: >"
      ]
     },
     "execution_count": 6,
     "metadata": {},
     "output_type": "execute_result"
    },
    {
     "data": {
      "image/png": "[encoded data removed]",
      "text/plain": [
       "<Figure size 640x480 with 1 Axes>"
      ]
     },
     "metadata": {},
     "output_type": "display_data"
    }
   ],
   "source": [
    "osc.one_shot_histogram(third_ed_monster_table,0,1,nonviolent_one_shot)"
   ]
  },
  {
   "cell_type": "markdown",
   "id": "99eb46d4-b1ac-4ee7-9387-53e96361e7b4",
   "metadata": {},
   "source": [
    "Nice! This more optimized character has a strong chance of one-shotting most level-appropriate monsters! Note that things would get a bit worse if we took into account immunity to mind-affecting spells, but there are other spells we could choose."
   ]
  },
  {
   "cell_type": "markdown",
   "id": "26ce7f6b-1baf-4f1d-8917-c153659ccf01",
   "metadata": {},
   "source": [
    "## On Fireball"
   ]
  },
  {
   "cell_type": "markdown",
   "id": "d9647807-ad58-4861-8919-0c15cec97990",
   "metadata": {},
   "source": [
    "Now a much less-optimized example, with some code subtleties. We have a 10th level wizard who really loves Fireball. They've got some appropriate wizard gear, including a Headband of Intellect +4, which brings their Int from a starting value of 18 to 22. They've got a few of the obvious Player's Handbook feats to support their Fireball-loving: Spell Focus (Evocation), Greater Spell Focus (Evocation), and Empower Spell. And they're smart enough to understand that you use area-of-effect spells like Fireball against groups of monsters. We'll assume they're facing at least four monsters with a total EL of 10, which means at least one of them is CR 6 or below. So let's look at this wizard's chances to one-shot monsters between CR 4 and CR 6."
   ]
  },
  {
   "cell_type": "code",
   "execution_count": 5,
   "id": "2dbdb4f6-c934-4580-9115-5f76abecda1c",
   "metadata": {},
   "outputs": [],
   "source": [
    "def fireball_one_shot(dataframe):\n",
    "    damage_dist=osc.mult_dist_by_const(osc.multiple_dist(10,osc.basic_die_dist(6)),1.5)\n",
    "    return osc.prob_at_least(damage_dist if dataframe[\"Ref\"]==\"-\" else osc.save_for_half_dist(dataframe[\"Ref\"],21,damage_dist),dataframe[\"hp\"])"
   ]
  },
  {
   "cell_type": "markdown",
   "id": "a7d2186c-9964-412e-be05-fa0a11747ea9",
   "metadata": {},
   "source": [
    "New subtleties:\n",
    "-mult_dist_by_const multiplies the result of a distribution by a constant. This can include fractions. In this edition of D&D, we always round down!\n",
    "-multiple_dist, in contrast, adds together the results of several copies of the same distribution. We need it here to find 10d6.\n",
    "-Not every monster has a reflex save! A monster with Dex - always fails reflex saves, so we have to take that into account.\n",
    "-save_for_half_dist gives the distribution of damage dealt when one can save for half damage. This uses the save_chance function above"
   ]
  },
  {
   "cell_type": "code",
   "execution_count": 6,
   "id": "9d6b2ac8-4048-48c7-9cca-e29e4090c910",
   "metadata": {},
   "outputs": [
    {
     "data": {
      "text/plain": [
       "<Axes: >"
      ]
     },
     "execution_count": 6,
     "metadata": {},
     "output_type": "execute_result"
    },
    {
     "data": {
      "image/png": "[encoded data removed]",
      "text/plain": [
       "<Figure size 640x480 with 1 Axes>"
      ]
     },
     "metadata": {},
     "output_type": "display_data"
    }
   ],
   "source": [
    "osc.one_shot_histogram(third_ed_monster_table,4,6,fireball_one_shot)"
   ]
  },
  {
   "cell_type": "markdown",
   "id": "8e14c1ef-a3f0-4871-907b-4073bb633a23",
   "metadata": {},
   "source": [
    "That's...not great! There are a lot of level-appropriate monsters this character can't one-shot at all. And I haven't taken into account fire immunity, or spell resistance, or Evasion...\n",
    "\n",
    "In this edition, friends don't let friends prepare Fireball."
   ]
  }
 ],
 "metadata": {
  "kernelspec": {
   "display_name": "monstery",
   "language": "python",
   "name": "monstery"
  },
  "language_info": {
   "codemirror_mode": {
    "name": "ipython",
    "version": 3
   },
   "file_extension": ".py",
   "mimetype": "text/x-python",
   "name": "python",
   "nbconvert_exporter": "python",
   "pygments_lexer": "ipython3",
   "version": "3.12.2"
  }
 },
 "nbformat": 4,
 "nbformat_minor": 5
}
